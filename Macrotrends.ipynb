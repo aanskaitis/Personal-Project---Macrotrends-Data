{
 "cells": [
  {
   "cell_type": "code",
   "execution_count": 191,
   "metadata": {},
   "outputs": [],
   "source": [
    "import pandas as pd\n",
    "from bs4 import BeautifulSoup\n",
    "from selenium import webdriver\n",
    "from webdriver_manager.chrome import ChromeDriverManager\n",
    "import time"
   ]
  },
  {
   "cell_type": "code",
   "execution_count": 250,
   "metadata": {},
   "outputs": [],
   "source": [
    "def data_split(data, n_columns):\n",
    "    n_rows = int(len(data) / n_columns)\n",
    "    return [data[i * n_columns:(i+1) * n_columns] for i in range(n_rows)]"
   ]
  },
  {
   "cell_type": "code",
   "execution_count": 207,
   "metadata": {},
   "outputs": [],
   "source": [
    "def soup_to_dataframe(driver):\n",
    "    html = driver.execute_script('return document.body.innerHTML;')\n",
    "    soup = BeautifulSoup(html,'html.parser')\n",
    "    \n",
    "    # quarterly dates\n",
    "    headers = [entry.text for entry\n",
    "               in soup.find_all('div', {'role':'columnheader', 'class':'jqx-grid-column-header jqx-widget-header'})][2:]\n",
    "    \n",
    "    # values\n",
    "    data = data_split([entry.text for entry in \n",
    "                       soup.find_all('div', {'role':'gridcell', 'class':'jqx-grid-cell jqx-item'})], len(headers))\n",
    "\n",
    "    # labels\n",
    "    labels = [entry.text for entry\n",
    "              in soup.find_all('div', {'role':'gridcell', 'class':'jqx-grid-cell jqx-item jqx-grid-cell-pinned'})][::2]\n",
    "    \n",
    "    return pd.DataFrame(data, columns=headers, index=labels)"
   ]
  },
  {
   "cell_type": "code",
   "execution_count": 265,
   "metadata": {},
   "outputs": [],
   "source": [
    "def scroll_bar_horizontal(scroll_bar, web_driver, x_offset):\n",
    "    action = webdriver.common.action_chains.ActionChains(web_driver)\n",
    "    action.move_to_element(scroll_bar).click_and_hold().move_by_offset(x_offset, 0).release().perform()\n",
    "    time.sleep(0.5)"
   ]
  },
  {
   "cell_type": "code",
   "execution_count": 262,
   "metadata": {
    "scrolled": true
   },
   "outputs": [],
   "source": [
    "# getting data from macrotrends website\n",
    "\n",
    "\n",
    "def get_info():\n",
    "    print(\"There are four types of data you can get:\\n1: financial-ratios\\n2: cash-flow-statement\\n\"\n",
    "    \"3: balance-sheet\\n4: income-statement\\n\\nThere is one function for getting the data:\\n\"\n",
    "    \"get_data(symbol, stock_name, financials_type)\\n\\nFor example: get_data('AAPL','apple','income-statement')\\n\\n\"\n",
    "    \"The function returns pandas dataframe with the requested data.\")\n",
    "\n",
    "    \n",
    "def get_data(symbol, stock_name, financials_type):\n",
    "    driver = webdriver.Chrome(ChromeDriverManager().install())\n",
    "    \n",
    "    link = f'https://www.macrotrends.net/stocks/charts/{symbol}/{stock_name}/{financials_type}?freq=Q'\n",
    "    driver.get(link)\n",
    "    driver.maximize_window()\n",
    "    \n",
    "    # create pandas dataframe from soup\n",
    "    dataframe_1 = soup_to_dataframe(driver)\n",
    "    \n",
    "    # scrolling the bar to access hidden table data\n",
    "    scrolling_bar = driver.find_element_by_id(\"jqxScrollThumbhorizontalScrollBarjqxgrid\")\n",
    "    scroll_bar_horizontal(scrolling_bar, driver, 200)\n",
    "    \n",
    "    dataframe_2 = soup_to_dataframe(driver)\n",
    "    \n",
    "    # concat dataframes together\n",
    "    dataframe = pd.concat([dataframe_1, dataframe_2], axis=1)\n",
    "    \n",
    "    \n",
    "    # remove dollar signs\n",
    "    for i in range(len(dataframe)):\n",
    "        for j in range(len(dataframe.columns)):\n",
    "            if str(dataframe.iat[i, j]).startswith('$'):\n",
    "                dataframe.iat[i, j] = dataframe.iat[i, j][1:]\n",
    "    \n",
    "    return dataframe"
   ]
  }
 ],
 "metadata": {
  "kernelspec": {
   "display_name": "Python 3",
   "language": "python",
   "name": "python3"
  },
  "language_info": {
   "codemirror_mode": {
    "name": "ipython",
    "version": 3
   },
   "file_extension": ".py",
   "mimetype": "text/x-python",
   "name": "python",
   "nbconvert_exporter": "python",
   "pygments_lexer": "ipython3",
   "version": "3.8.5"
  }
 },
 "nbformat": 4,
 "nbformat_minor": 4
}
